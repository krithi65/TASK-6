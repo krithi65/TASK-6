{
  "cells": [
    {
      "cell_type": "markdown",
      "metadata": {
        "id": "view-in-github",
        "colab_type": "text"
      },
      "source": [
        "<a href=\"https://colab.research.google.com/github/krithi65/TASK-6/blob/main/linear_regression_Assignment8.ipynb\" target=\"_parent\"><img src=\"https://colab.research.google.com/assets/colab-badge.svg\" alt=\"Open In Colab\"/></a>"
      ]
    },
    {
      "cell_type": "markdown",
      "metadata": {
        "id": "N-OURicmfgGH"
      },
      "source": [
        "# Assignment8"
      ]
    },
    {
      "cell_type": "code",
      "execution_count": null,
      "metadata": {
        "collapsed": true,
        "id": "4p1miI1VfgGJ"
      },
      "outputs": [],
      "source": [
        "import pandas as pd\n",
        "import matplotlib.pyplot as plt\n",
        "import numpy as np\n",
        "from sklearn import linear_model"
      ]
    },
    {
      "cell_type": "markdown",
      "metadata": {
        "id": "JNnWz_7cfgGK"
      },
      "source": [
        "# How Much is Your Car Worth?\n",
        "\n",
        "Data about the retail price of 2005 General Motors cars can be found in `car_data.csv`.\n",
        "\n",
        "The columns are:\n",
        "\n",
        "1. Price: suggested retail price of the used 2005 GM car in excellent condition.\n",
        "2. Mileage: number of miles the car has been driven\n",
        "3. Make: manufacturer of the car such as Saturn, Pontiac, and Chevrolet\n",
        "4. Model: specific models for each car manufacturer such as Ion, Vibe, Cavalier\n",
        "5. Trim (of car): specific type of car model such as SE Sedan 4D, Quad Coupe 2D          \n",
        "6. Type: body type such as sedan, coupe, etc.      \n",
        "7. Cylinder: number of cylinders in the engine        \n",
        "8. Liter: a more specific measure of engine size     \n",
        "9. Doors: number of doors           \n",
        "10. Cruise: indicator variable representing whether the car has cruise control (1 = cruise)\n",
        "11. Sound: indicator variable representing whether the car has upgraded speakers (1 = upgraded)\n",
        "12. Leather: indicator variable representing whether the car has leather seats (1 = leather)\n",
        "\n",
        "## Tasks, Part 1\n",
        "\n",
        "1. Find the linear regression equation for mileage vs price.\n",
        "2. Chart the original data and the equation on the chart.\n",
        "3. Find the equation's $R^2$ score (use the `.score` method) to determine whether the\n",
        "equation is a good fit for this data. (0.8 and greater is considered a strong correlation.)\n",
        "\n",
        "## Tasks, Part 2\n",
        "\n",
        "1. Use mileage, cylinders, liters, doors, cruise, sound, and leather to find the linear regression equation.\n",
        "2. Find the equation's $R^2$ score (use the `.score` method) to determine whether the\n",
        "equation is a good fit for this data. (0.8 and greater is considered a strong correlation.)\n",
        "3. Find the combination of the factors that is the best predictor for price.\n",
        "\n",
        "## Tasks, Hard Mode\n",
        "\n",
        "1. Research dummy variables in scikit-learn to see how to use the make, model, and body type.\n",
        "2. Find the best combination of factors to predict price."
      ]
    },
    {
      "cell_type": "markdown",
      "source": [
        "task 1"
      ],
      "metadata": {
        "id": "E1Ax8R8s-xtk"
      }
    },
    {
      "cell_type": "code",
      "source": [
        "import pandas as pd\n",
        "import numpy as np\n",
        "from sklearn import linear_model\n",
        "import matplotlib.pyplot as plt\n",
        "from itertools import combinations"
      ],
      "metadata": {
        "id": "xeEUmRtHhkoF"
      },
      "execution_count": 48,
      "outputs": []
    },
    {
      "cell_type": "code",
      "execution_count": 4,
      "metadata": {
        "id": "YGcol2rqfgGL",
        "colab": {
          "base_uri": "https://localhost:8080/",
          "height": 424
        },
        "outputId": "d81d462c-51f0-44f5-8daa-a9c76d407cb1"
      },
      "outputs": [
        {
          "output_type": "execute_result",
          "data": {
            "text/plain": [
              "            Price  Mileage    Make     Model           Trim   Type  Cylinder  \\\n",
              "0    17314.103129     8221   Buick   Century       Sedan 4D  Sedan         6   \n",
              "1    17542.036083     9135   Buick   Century       Sedan 4D  Sedan         6   \n",
              "2    16218.847862    13196   Buick   Century       Sedan 4D  Sedan         6   \n",
              "3    16336.913140    16342   Buick   Century       Sedan 4D  Sedan         6   \n",
              "4    16339.170324    19832   Buick   Century       Sedan 4D  Sedan         6   \n",
              "..            ...      ...     ...       ...            ...    ...       ...   \n",
              "799  16507.070267    16229  Saturn  L Series  L300 Sedan 4D  Sedan         6   \n",
              "800  16175.957604    19095  Saturn  L Series  L300 Sedan 4D  Sedan         6   \n",
              "801  15731.132897    20484  Saturn  L Series  L300 Sedan 4D  Sedan         6   \n",
              "802  15118.893228    25979  Saturn  L Series  L300 Sedan 4D  Sedan         6   \n",
              "803  13585.636802    35662  Saturn  L Series  L300 Sedan 4D  Sedan         6   \n",
              "\n",
              "     Liter  Doors  Cruise  Sound  Leather  \n",
              "0      3.1      4       1      1        1  \n",
              "1      3.1      4       1      1        0  \n",
              "2      3.1      4       1      1        0  \n",
              "3      3.1      4       1      0        0  \n",
              "4      3.1      4       1      0        1  \n",
              "..     ...    ...     ...    ...      ...  \n",
              "799    3.0      4       1      0        0  \n",
              "800    3.0      4       1      1        0  \n",
              "801    3.0      4       1      1        0  \n",
              "802    3.0      4       1      1        0  \n",
              "803    3.0      4       1      0        0  \n",
              "\n",
              "[804 rows x 12 columns]"
            ],
            "text/html": [
              "\n",
              "  <div id=\"df-efcef8bb-afc0-46b6-8ab6-5ea0310d0ae8\">\n",
              "    <div class=\"colab-df-container\">\n",
              "      <div>\n",
              "<style scoped>\n",
              "    .dataframe tbody tr th:only-of-type {\n",
              "        vertical-align: middle;\n",
              "    }\n",
              "\n",
              "    .dataframe tbody tr th {\n",
              "        vertical-align: top;\n",
              "    }\n",
              "\n",
              "    .dataframe thead th {\n",
              "        text-align: right;\n",
              "    }\n",
              "</style>\n",
              "<table border=\"1\" class=\"dataframe\">\n",
              "  <thead>\n",
              "    <tr style=\"text-align: right;\">\n",
              "      <th></th>\n",
              "      <th>Price</th>\n",
              "      <th>Mileage</th>\n",
              "      <th>Make</th>\n",
              "      <th>Model</th>\n",
              "      <th>Trim</th>\n",
              "      <th>Type</th>\n",
              "      <th>Cylinder</th>\n",
              "      <th>Liter</th>\n",
              "      <th>Doors</th>\n",
              "      <th>Cruise</th>\n",
              "      <th>Sound</th>\n",
              "      <th>Leather</th>\n",
              "    </tr>\n",
              "  </thead>\n",
              "  <tbody>\n",
              "    <tr>\n",
              "      <th>0</th>\n",
              "      <td>17314.103129</td>\n",
              "      <td>8221</td>\n",
              "      <td>Buick</td>\n",
              "      <td>Century</td>\n",
              "      <td>Sedan 4D</td>\n",
              "      <td>Sedan</td>\n",
              "      <td>6</td>\n",
              "      <td>3.1</td>\n",
              "      <td>4</td>\n",
              "      <td>1</td>\n",
              "      <td>1</td>\n",
              "      <td>1</td>\n",
              "    </tr>\n",
              "    <tr>\n",
              "      <th>1</th>\n",
              "      <td>17542.036083</td>\n",
              "      <td>9135</td>\n",
              "      <td>Buick</td>\n",
              "      <td>Century</td>\n",
              "      <td>Sedan 4D</td>\n",
              "      <td>Sedan</td>\n",
              "      <td>6</td>\n",
              "      <td>3.1</td>\n",
              "      <td>4</td>\n",
              "      <td>1</td>\n",
              "      <td>1</td>\n",
              "      <td>0</td>\n",
              "    </tr>\n",
              "    <tr>\n",
              "      <th>2</th>\n",
              "      <td>16218.847862</td>\n",
              "      <td>13196</td>\n",
              "      <td>Buick</td>\n",
              "      <td>Century</td>\n",
              "      <td>Sedan 4D</td>\n",
              "      <td>Sedan</td>\n",
              "      <td>6</td>\n",
              "      <td>3.1</td>\n",
              "      <td>4</td>\n",
              "      <td>1</td>\n",
              "      <td>1</td>\n",
              "      <td>0</td>\n",
              "    </tr>\n",
              "    <tr>\n",
              "      <th>3</th>\n",
              "      <td>16336.913140</td>\n",
              "      <td>16342</td>\n",
              "      <td>Buick</td>\n",
              "      <td>Century</td>\n",
              "      <td>Sedan 4D</td>\n",
              "      <td>Sedan</td>\n",
              "      <td>6</td>\n",
              "      <td>3.1</td>\n",
              "      <td>4</td>\n",
              "      <td>1</td>\n",
              "      <td>0</td>\n",
              "      <td>0</td>\n",
              "    </tr>\n",
              "    <tr>\n",
              "      <th>4</th>\n",
              "      <td>16339.170324</td>\n",
              "      <td>19832</td>\n",
              "      <td>Buick</td>\n",
              "      <td>Century</td>\n",
              "      <td>Sedan 4D</td>\n",
              "      <td>Sedan</td>\n",
              "      <td>6</td>\n",
              "      <td>3.1</td>\n",
              "      <td>4</td>\n",
              "      <td>1</td>\n",
              "      <td>0</td>\n",
              "      <td>1</td>\n",
              "    </tr>\n",
              "    <tr>\n",
              "      <th>...</th>\n",
              "      <td>...</td>\n",
              "      <td>...</td>\n",
              "      <td>...</td>\n",
              "      <td>...</td>\n",
              "      <td>...</td>\n",
              "      <td>...</td>\n",
              "      <td>...</td>\n",
              "      <td>...</td>\n",
              "      <td>...</td>\n",
              "      <td>...</td>\n",
              "      <td>...</td>\n",
              "      <td>...</td>\n",
              "    </tr>\n",
              "    <tr>\n",
              "      <th>799</th>\n",
              "      <td>16507.070267</td>\n",
              "      <td>16229</td>\n",
              "      <td>Saturn</td>\n",
              "      <td>L Series</td>\n",
              "      <td>L300 Sedan 4D</td>\n",
              "      <td>Sedan</td>\n",
              "      <td>6</td>\n",
              "      <td>3.0</td>\n",
              "      <td>4</td>\n",
              "      <td>1</td>\n",
              "      <td>0</td>\n",
              "      <td>0</td>\n",
              "    </tr>\n",
              "    <tr>\n",
              "      <th>800</th>\n",
              "      <td>16175.957604</td>\n",
              "      <td>19095</td>\n",
              "      <td>Saturn</td>\n",
              "      <td>L Series</td>\n",
              "      <td>L300 Sedan 4D</td>\n",
              "      <td>Sedan</td>\n",
              "      <td>6</td>\n",
              "      <td>3.0</td>\n",
              "      <td>4</td>\n",
              "      <td>1</td>\n",
              "      <td>1</td>\n",
              "      <td>0</td>\n",
              "    </tr>\n",
              "    <tr>\n",
              "      <th>801</th>\n",
              "      <td>15731.132897</td>\n",
              "      <td>20484</td>\n",
              "      <td>Saturn</td>\n",
              "      <td>L Series</td>\n",
              "      <td>L300 Sedan 4D</td>\n",
              "      <td>Sedan</td>\n",
              "      <td>6</td>\n",
              "      <td>3.0</td>\n",
              "      <td>4</td>\n",
              "      <td>1</td>\n",
              "      <td>1</td>\n",
              "      <td>0</td>\n",
              "    </tr>\n",
              "    <tr>\n",
              "      <th>802</th>\n",
              "      <td>15118.893228</td>\n",
              "      <td>25979</td>\n",
              "      <td>Saturn</td>\n",
              "      <td>L Series</td>\n",
              "      <td>L300 Sedan 4D</td>\n",
              "      <td>Sedan</td>\n",
              "      <td>6</td>\n",
              "      <td>3.0</td>\n",
              "      <td>4</td>\n",
              "      <td>1</td>\n",
              "      <td>1</td>\n",
              "      <td>0</td>\n",
              "    </tr>\n",
              "    <tr>\n",
              "      <th>803</th>\n",
              "      <td>13585.636802</td>\n",
              "      <td>35662</td>\n",
              "      <td>Saturn</td>\n",
              "      <td>L Series</td>\n",
              "      <td>L300 Sedan 4D</td>\n",
              "      <td>Sedan</td>\n",
              "      <td>6</td>\n",
              "      <td>3.0</td>\n",
              "      <td>4</td>\n",
              "      <td>1</td>\n",
              "      <td>0</td>\n",
              "      <td>0</td>\n",
              "    </tr>\n",
              "  </tbody>\n",
              "</table>\n",
              "<p>804 rows × 12 columns</p>\n",
              "</div>\n",
              "      <button class=\"colab-df-convert\" onclick=\"convertToInteractive('df-efcef8bb-afc0-46b6-8ab6-5ea0310d0ae8')\"\n",
              "              title=\"Convert this dataframe to an interactive table.\"\n",
              "              style=\"display:none;\">\n",
              "        \n",
              "  <svg xmlns=\"http://www.w3.org/2000/svg\" height=\"24px\"viewBox=\"0 0 24 24\"\n",
              "       width=\"24px\">\n",
              "    <path d=\"M0 0h24v24H0V0z\" fill=\"none\"/>\n",
              "    <path d=\"M18.56 5.44l.94 2.06.94-2.06 2.06-.94-2.06-.94-.94-2.06-.94 2.06-2.06.94zm-11 1L8.5 8.5l.94-2.06 2.06-.94-2.06-.94L8.5 2.5l-.94 2.06-2.06.94zm10 10l.94 2.06.94-2.06 2.06-.94-2.06-.94-.94-2.06-.94 2.06-2.06.94z\"/><path d=\"M17.41 7.96l-1.37-1.37c-.4-.4-.92-.59-1.43-.59-.52 0-1.04.2-1.43.59L10.3 9.45l-7.72 7.72c-.78.78-.78 2.05 0 2.83L4 21.41c.39.39.9.59 1.41.59.51 0 1.02-.2 1.41-.59l7.78-7.78 2.81-2.81c.8-.78.8-2.07 0-2.86zM5.41 20L4 18.59l7.72-7.72 1.47 1.35L5.41 20z\"/>\n",
              "  </svg>\n",
              "      </button>\n",
              "      \n",
              "  <style>\n",
              "    .colab-df-container {\n",
              "      display:flex;\n",
              "      flex-wrap:wrap;\n",
              "      gap: 12px;\n",
              "    }\n",
              "\n",
              "    .colab-df-convert {\n",
              "      background-color: #E8F0FE;\n",
              "      border: none;\n",
              "      border-radius: 50%;\n",
              "      cursor: pointer;\n",
              "      display: none;\n",
              "      fill: #1967D2;\n",
              "      height: 32px;\n",
              "      padding: 0 0 0 0;\n",
              "      width: 32px;\n",
              "    }\n",
              "\n",
              "    .colab-df-convert:hover {\n",
              "      background-color: #E2EBFA;\n",
              "      box-shadow: 0px 1px 2px rgba(60, 64, 67, 0.3), 0px 1px 3px 1px rgba(60, 64, 67, 0.15);\n",
              "      fill: #174EA6;\n",
              "    }\n",
              "\n",
              "    [theme=dark] .colab-df-convert {\n",
              "      background-color: #3B4455;\n",
              "      fill: #D2E3FC;\n",
              "    }\n",
              "\n",
              "    [theme=dark] .colab-df-convert:hover {\n",
              "      background-color: #434B5C;\n",
              "      box-shadow: 0px 1px 3px 1px rgba(0, 0, 0, 0.15);\n",
              "      filter: drop-shadow(0px 1px 2px rgba(0, 0, 0, 0.3));\n",
              "      fill: #FFFFFF;\n",
              "    }\n",
              "  </style>\n",
              "\n",
              "      <script>\n",
              "        const buttonEl =\n",
              "          document.querySelector('#df-efcef8bb-afc0-46b6-8ab6-5ea0310d0ae8 button.colab-df-convert');\n",
              "        buttonEl.style.display =\n",
              "          google.colab.kernel.accessAllowed ? 'block' : 'none';\n",
              "\n",
              "        async function convertToInteractive(key) {\n",
              "          const element = document.querySelector('#df-efcef8bb-afc0-46b6-8ab6-5ea0310d0ae8');\n",
              "          const dataTable =\n",
              "            await google.colab.kernel.invokeFunction('convertToInteractive',\n",
              "                                                     [key], {});\n",
              "          if (!dataTable) return;\n",
              "\n",
              "          const docLinkHtml = 'Like what you see? Visit the ' +\n",
              "            '<a target=\"_blank\" href=https://colab.research.google.com/notebooks/data_table.ipynb>data table notebook</a>'\n",
              "            + ' to learn more about interactive tables.';\n",
              "          element.innerHTML = '';\n",
              "          dataTable['output_type'] = 'display_data';\n",
              "          await google.colab.output.renderOutput(dataTable, element);\n",
              "          const docLink = document.createElement('div');\n",
              "          docLink.innerHTML = docLinkHtml;\n",
              "          element.appendChild(docLink);\n",
              "        }\n",
              "      </script>\n",
              "    </div>\n",
              "  </div>\n",
              "  "
            ]
          },
          "metadata": {},
          "execution_count": 4
        }
      ],
      "source": [
        "df = pd.read_csv(\"/content/car_data.csv\")\n",
        "df"
      ]
    },
    {
      "cell_type": "code",
      "source": [
        "df.info()"
      ],
      "metadata": {
        "colab": {
          "base_uri": "https://localhost:8080/"
        },
        "id": "cA8t3mFHhsXk",
        "outputId": "7a6c06d8-6d01-4f5a-fe96-0b423c1dfe1b"
      },
      "execution_count": 7,
      "outputs": [
        {
          "output_type": "stream",
          "name": "stdout",
          "text": [
            "<class 'pandas.core.frame.DataFrame'>\n",
            "RangeIndex: 804 entries, 0 to 803\n",
            "Data columns (total 12 columns):\n",
            " #   Column    Non-Null Count  Dtype  \n",
            "---  ------    --------------  -----  \n",
            " 0   Price     804 non-null    float64\n",
            " 1   Mileage   804 non-null    int64  \n",
            " 2   Make      804 non-null    object \n",
            " 3   Model     804 non-null    object \n",
            " 4   Trim      804 non-null    object \n",
            " 5   Type      804 non-null    object \n",
            " 6   Cylinder  804 non-null    int64  \n",
            " 7   Liter     804 non-null    float64\n",
            " 8   Doors     804 non-null    int64  \n",
            " 9   Cruise    804 non-null    int64  \n",
            " 10  Sound     804 non-null    int64  \n",
            " 11  Leather   804 non-null    int64  \n",
            "dtypes: float64(2), int64(6), object(4)\n",
            "memory usage: 75.5+ KB\n"
          ]
        }
      ]
    },
    {
      "cell_type": "markdown",
      "source": [
        "1. Find the linear regression equation for mileage vs price."
      ],
      "metadata": {
        "id": "2E2-UvB27rhR"
      }
    },
    {
      "cell_type": "code",
      "source": [
        "reg = linear_model.LinearRegression() \n",
        "x = df[['Mileage']] \n",
        "y = df['Price']         \n",
        "reg.fit(x, y)"
      ],
      "metadata": {
        "colab": {
          "base_uri": "https://localhost:8080/"
        },
        "id": "_Hsreu57iRvQ",
        "outputId": "fd99ea6f-1a40-463d-e581-869befa4077e"
      },
      "execution_count": 10,
      "outputs": [
        {
          "output_type": "execute_result",
          "data": {
            "text/plain": [
              "LinearRegression()"
            ]
          },
          "metadata": {},
          "execution_count": 10
        }
      ]
    },
    {
      "cell_type": "code",
      "source": [
        "print('intercept:', reg.intercept_)\n",
        "print('coefficient:', reg.coef_)"
      ],
      "metadata": {
        "colab": {
          "base_uri": "https://localhost:8080/"
        },
        "id": "t6hbwMkaiyhw",
        "outputId": "faab4284-1366-49bb-8528-8ae52cc68345"
      },
      "execution_count": 11,
      "outputs": [
        {
          "output_type": "stream",
          "name": "stdout",
          "text": [
            "intercept: 24764.559006061685\n",
            "coefficient: [-0.1725205]\n"
          ]
        }
      ]
    },
    {
      "cell_type": "code",
      "source": [
        "print('Linear Regression Equation: y = {:.4f} * x + {:.4f}'\n",
        "      .format(reg.coef_[0], reg.intercept_))"
      ],
      "metadata": {
        "colab": {
          "base_uri": "https://localhost:8080/"
        },
        "id": "CQPSZAMJi3lC",
        "outputId": "ec7ef3d1-42ef-4d37-fa42-c7851881707c"
      },
      "execution_count": 12,
      "outputs": [
        {
          "output_type": "stream",
          "name": "stdout",
          "text": [
            "Linear Regression Equation: y = -0.1725 * x + 24764.5590\n"
          ]
        }
      ]
    },
    {
      "cell_type": "markdown",
      "source": [
        "2Chart the original data and the equation on the chart."
      ],
      "metadata": {
        "id": "ER-TjZ81714y"
      }
    },
    {
      "cell_type": "code",
      "source": [
        "Y_pred = reg.predict(x)  # make predictions\n",
        "plt.scatter(x, y)\n",
        "plt.plot(x, Y_pred, color='green')\n",
        "plt.title('Mileage vs Price')\n",
        "plt.xlabel('Mileage')\n",
        "plt.ylabel('Price')\n",
        "plt.show()"
      ],
      "metadata": {
        "colab": {
          "base_uri": "https://localhost:8080/",
          "height": 295
        },
        "id": "Ap7OZn-UjA7S",
        "outputId": "b2e5c476-111b-4f21-aef1-96dcd3140658"
      },
      "execution_count": 18,
      "outputs": [
        {
          "output_type": "display_data",
          "data": {
            "text/plain": [
              "<Figure size 432x288 with 1 Axes>"
            ],
            "image/png": "[encoded data removed]"
          },
          "metadata": {
            "needs_background": "light"
          }
        }
      ]
    },
    {
      "cell_type": "markdown",
      "source": [
        "3Find the equation's  R2  score (use the .score method) to determine whether the equation is a good fit for this data. (0.8 and greater is considered a strong correlation.)"
      ],
      "metadata": {
        "id": "jyT362Wm74ev"
      }
    },
    {
      "cell_type": "markdown",
      "source": [
        "task2 \n",
        "1Use mileage, cylinders, liters, doors, cruise, sound, and leather to find the linear regression equation."
      ],
      "metadata": {
        "id": "CNvVwSqB77wC"
      }
    },
    {
      "cell_type": "code",
      "source": [
        "#equation R2\n",
        "print('r-squared: ', reg.score(x,y))\n",
        "#below 0.8 and it is not a good fit"
      ],
      "metadata": {
        "colab": {
          "base_uri": "https://localhost:8080/"
        },
        "id": "pXvTgkcgj2pL",
        "outputId": "903b12fd-cbab-4167-e94b-222fe616a7dc"
      },
      "execution_count": 19,
      "outputs": [
        {
          "output_type": "stream",
          "name": "stdout",
          "text": [
            "r-squared:  0.02046344732348926\n"
          ]
        }
      ]
    },
    {
      "cell_type": "code",
      "source": [
        "\n",
        "from sklearn.linear_model import LinearRegression\n",
        "model = LinearRegression()\n",
        "X, y = df[['Mileage', 'Cylinder', 'Liter', 'Doors', 'Cruise', 'Sound', 'Leather']], df.Price\n",
        "model.fit(X, y)"
      ],
      "metadata": {
        "colab": {
          "base_uri": "https://localhost:8080/"
        },
        "id": "2HV-ADp5lQKA",
        "outputId": "1f31b500-c906-4e4f-de5d-f2fc7b393905"
      },
      "execution_count": 33,
      "outputs": [
        {
          "output_type": "execute_result",
          "data": {
            "text/plain": [
              "LinearRegression()"
            ]
          },
          "metadata": {},
          "execution_count": 33
        }
      ]
    },
    {
      "cell_type": "markdown",
      "source": [
        "2Find the equation's  R2  score (use the .score method) to determine whether the equation is a good fit for this data. (0.8 and greater is considered a strong correlation.)"
      ],
      "metadata": {
        "id": "usdyMWva8HX5"
      }
    },
    {
      "cell_type": "code",
      "source": [
        "#equation R2\n",
        "import statsmodels.api as sm\n",
        "X1 = sm.add_constant(X)\n",
        "result = sm.OLS(y, X1).fit()\n",
        "#print dir(result)\n",
        "print( result.rsquared)\n",
        "#below 0.8 and it is not a good fit"
      ],
      "metadata": {
        "colab": {
          "base_uri": "https://localhost:8080/"
        },
        "id": "J8_peITkmNG_",
        "outputId": "d25d450c-878e-403a-d6d3-76f1b627d356"
      },
      "execution_count": 35,
      "outputs": [
        {
          "output_type": "stream",
          "name": "stdout",
          "text": [
            "0.446264353672838\n"
          ]
        },
        {
          "output_type": "stream",
          "name": "stderr",
          "text": [
            "/usr/local/lib/python3.7/dist-packages/statsmodels/tsa/tsatools.py:142: FutureWarning: In a future version of pandas all arguments of concat except for the argument 'objs' will be keyword-only\n",
            "  x = pd.concat(x[::order], 1)\n"
          ]
        }
      ]
    },
    {
      "cell_type": "markdown",
      "source": [
        "task 3 \n",
        "\n",
        "Research dummy variables in scikit-learn to see how to use the make, model, and body type."
      ],
      "metadata": {
        "id": "VMhrqILi8MFH"
      }
    },
    {
      "cell_type": "code",
      "source": [
        "df.Make.value_counts()"
      ],
      "metadata": {
        "colab": {
          "base_uri": "https://localhost:8080/"
        },
        "id": "L5musAuT4oGm",
        "outputId": "4d5f951c-88a8-488d-d413-7f1f6dfbd791"
      },
      "execution_count": 36,
      "outputs": [
        {
          "output_type": "execute_result",
          "data": {
            "text/plain": [
              "Chevrolet    320\n",
              "Pontiac      150\n",
              "SAAB         114\n",
              "Buick         80\n",
              "Cadillac      80\n",
              "Saturn        60\n",
              "Name: Make, dtype: int64"
            ]
          },
          "metadata": {},
          "execution_count": 36
        }
      ]
    },
    {
      "cell_type": "code",
      "source": [
        "df.Model.value_counts()"
      ],
      "metadata": {
        "colab": {
          "base_uri": "https://localhost:8080/"
        },
        "id": "8y9g42eE4uYp",
        "outputId": "dcbdac01-e9ef-47c1-da40-acc89aac909f"
      },
      "execution_count": 37,
      "outputs": [
        {
          "output_type": "execute_result",
          "data": {
            "text/plain": [
              "Malibu         60\n",
              "AVEO           60\n",
              "Cavalier       60\n",
              "Ion            50\n",
              "Cobalt         50\n",
              "9_3 HO         40\n",
              "Vibe           30\n",
              "Bonneville     30\n",
              "Monte Carlo    30\n",
              "Lacrosse       30\n",
              "Impala         30\n",
              "Grand Prix     30\n",
              "9_5            30\n",
              "Deville        30\n",
              "Lesabre        20\n",
              "Corvette       20\n",
              "9_3            20\n",
              "9_5 HO         20\n",
              "G6             20\n",
              "Grand Am       20\n",
              "Park Avenue    20\n",
              "Sunfire        10\n",
              "Century        10\n",
              "GTO            10\n",
              "Classic        10\n",
              "XLR-V8         10\n",
              "STS-V8         10\n",
              "STS-V6         10\n",
              "CTS            10\n",
              "CST-V          10\n",
              "L Series       10\n",
              "9-2X AWD        4\n",
              "Name: Model, dtype: int64"
            ]
          },
          "metadata": {},
          "execution_count": 37
        }
      ]
    },
    {
      "cell_type": "code",
      "source": [
        "df.Type.value_counts()"
      ],
      "metadata": {
        "colab": {
          "base_uri": "https://localhost:8080/"
        },
        "id": "S4YvQYxX4zy7",
        "outputId": "eb14e7d8-598f-4eb3-a3d7-9a68b27c2752"
      },
      "execution_count": 38,
      "outputs": [
        {
          "output_type": "execute_result",
          "data": {
            "text/plain": [
              "Sedan          490\n",
              "Coupe          140\n",
              "Wagon           64\n",
              "Hatchback       60\n",
              "Convertible     50\n",
              "Name: Type, dtype: int64"
            ]
          },
          "metadata": {},
          "execution_count": 38
        }
      ]
    },
    {
      "cell_type": "code",
      "source": [
        "df = df.join(pd.get_dummies(df.Type))\n",
        "df = df.join(pd.get_dummies(df.Model))\n",
        "df = df.join(pd.get_dummies(df.Make))\n",
        "df.head()"
      ],
      "metadata": {
        "colab": {
          "base_uri": "https://localhost:8080/",
          "height": 404
        },
        "id": "3Sp41Yuc5I2j",
        "outputId": "601b76b6-7e1a-447b-eed5-d94199ed2662"
      },
      "execution_count": 39,
      "outputs": [
        {
          "output_type": "execute_result",
          "data": {
            "text/plain": [
              "          Price  Mileage   Make    Model      Trim   Type  Cylinder  Liter  \\\n",
              "0  17314.103129     8221  Buick  Century  Sedan 4D  Sedan         6    3.1   \n",
              "1  17542.036083     9135  Buick  Century  Sedan 4D  Sedan         6    3.1   \n",
              "2  16218.847862    13196  Buick  Century  Sedan 4D  Sedan         6    3.1   \n",
              "3  16336.913140    16342  Buick  Century  Sedan 4D  Sedan         6    3.1   \n",
              "4  16339.170324    19832  Buick  Century  Sedan 4D  Sedan         6    3.1   \n",
              "\n",
              "   Doors  Cruise  ...  STS-V8  Sunfire  Vibe  XLR-V8  Buick  Cadillac  \\\n",
              "0      4       1  ...       0        0     0       0      1         0   \n",
              "1      4       1  ...       0        0     0       0      1         0   \n",
              "2      4       1  ...       0        0     0       0      1         0   \n",
              "3      4       1  ...       0        0     0       0      1         0   \n",
              "4      4       1  ...       0        0     0       0      1         0   \n",
              "\n",
              "   Chevrolet  Pontiac  SAAB  Saturn  \n",
              "0          0        0     0       0  \n",
              "1          0        0     0       0  \n",
              "2          0        0     0       0  \n",
              "3          0        0     0       0  \n",
              "4          0        0     0       0  \n",
              "\n",
              "[5 rows x 55 columns]"
            ],
            "text/html": [
              "\n",
              "  <div id=\"df-e241e448-0af2-41db-9a45-e3d8e29a2b8c\">\n",
              "    <div class=\"colab-df-container\">\n",
              "      <div>\n",
              "<style scoped>\n",
              "    .dataframe tbody tr th:only-of-type {\n",
              "        vertical-align: middle;\n",
              "    }\n",
              "\n",
              "    .dataframe tbody tr th {\n",
              "        vertical-align: top;\n",
              "    }\n",
              "\n",
              "    .dataframe thead th {\n",
              "        text-align: right;\n",
              "    }\n",
              "</style>\n",
              "<table border=\"1\" class=\"dataframe\">\n",
              "  <thead>\n",
              "    <tr style=\"text-align: right;\">\n",
              "      <th></th>\n",
              "      <th>Price</th>\n",
              "      <th>Mileage</th>\n",
              "      <th>Make</th>\n",
              "      <th>Model</th>\n",
              "      <th>Trim</th>\n",
              "      <th>Type</th>\n",
              "      <th>Cylinder</th>\n",
              "      <th>Liter</th>\n",
              "      <th>Doors</th>\n",
              "      <th>Cruise</th>\n",
              "      <th>...</th>\n",
              "      <th>STS-V8</th>\n",
              "      <th>Sunfire</th>\n",
              "      <th>Vibe</th>\n",
              "      <th>XLR-V8</th>\n",
              "      <th>Buick</th>\n",
              "      <th>Cadillac</th>\n",
              "      <th>Chevrolet</th>\n",
              "      <th>Pontiac</th>\n",
              "      <th>SAAB</th>\n",
              "      <th>Saturn</th>\n",
              "    </tr>\n",
              "  </thead>\n",
              "  <tbody>\n",
              "    <tr>\n",
              "      <th>0</th>\n",
              "      <td>17314.103129</td>\n",
              "      <td>8221</td>\n",
              "      <td>Buick</td>\n",
              "      <td>Century</td>\n",
              "      <td>Sedan 4D</td>\n",
              "      <td>Sedan</td>\n",
              "      <td>6</td>\n",
              "      <td>3.1</td>\n",
              "      <td>4</td>\n",
              "      <td>1</td>\n",
              "      <td>...</td>\n",
              "      <td>0</td>\n",
              "      <td>0</td>\n",
              "      <td>0</td>\n",
              "      <td>0</td>\n",
              "      <td>1</td>\n",
              "      <td>0</td>\n",
              "      <td>0</td>\n",
              "      <td>0</td>\n",
              "      <td>0</td>\n",
              "      <td>0</td>\n",
              "    </tr>\n",
              "    <tr>\n",
              "      <th>1</th>\n",
              "      <td>17542.036083</td>\n",
              "      <td>9135</td>\n",
              "      <td>Buick</td>\n",
              "      <td>Century</td>\n",
              "      <td>Sedan 4D</td>\n",
              "      <td>Sedan</td>\n",
              "      <td>6</td>\n",
              "      <td>3.1</td>\n",
              "      <td>4</td>\n",
              "      <td>1</td>\n",
              "      <td>...</td>\n",
              "      <td>0</td>\n",
              "      <td>0</td>\n",
              "      <td>0</td>\n",
              "      <td>0</td>\n",
              "      <td>1</td>\n",
              "      <td>0</td>\n",
              "      <td>0</td>\n",
              "      <td>0</td>\n",
              "      <td>0</td>\n",
              "      <td>0</td>\n",
              "    </tr>\n",
              "    <tr>\n",
              "      <th>2</th>\n",
              "      <td>16218.847862</td>\n",
              "      <td>13196</td>\n",
              "      <td>Buick</td>\n",
              "      <td>Century</td>\n",
              "      <td>Sedan 4D</td>\n",
              "      <td>Sedan</td>\n",
              "      <td>6</td>\n",
              "      <td>3.1</td>\n",
              "      <td>4</td>\n",
              "      <td>1</td>\n",
              "      <td>...</td>\n",
              "      <td>0</td>\n",
              "      <td>0</td>\n",
              "      <td>0</td>\n",
              "      <td>0</td>\n",
              "      <td>1</td>\n",
              "      <td>0</td>\n",
              "      <td>0</td>\n",
              "      <td>0</td>\n",
              "      <td>0</td>\n",
              "      <td>0</td>\n",
              "    </tr>\n",
              "    <tr>\n",
              "      <th>3</th>\n",
              "      <td>16336.913140</td>\n",
              "      <td>16342</td>\n",
              "      <td>Buick</td>\n",
              "      <td>Century</td>\n",
              "      <td>Sedan 4D</td>\n",
              "      <td>Sedan</td>\n",
              "      <td>6</td>\n",
              "      <td>3.1</td>\n",
              "      <td>4</td>\n",
              "      <td>1</td>\n",
              "      <td>...</td>\n",
              "      <td>0</td>\n",
              "      <td>0</td>\n",
              "      <td>0</td>\n",
              "      <td>0</td>\n",
              "      <td>1</td>\n",
              "      <td>0</td>\n",
              "      <td>0</td>\n",
              "      <td>0</td>\n",
              "      <td>0</td>\n",
              "      <td>0</td>\n",
              "    </tr>\n",
              "    <tr>\n",
              "      <th>4</th>\n",
              "      <td>16339.170324</td>\n",
              "      <td>19832</td>\n",
              "      <td>Buick</td>\n",
              "      <td>Century</td>\n",
              "      <td>Sedan 4D</td>\n",
              "      <td>Sedan</td>\n",
              "      <td>6</td>\n",
              "      <td>3.1</td>\n",
              "      <td>4</td>\n",
              "      <td>1</td>\n",
              "      <td>...</td>\n",
              "      <td>0</td>\n",
              "      <td>0</td>\n",
              "      <td>0</td>\n",
              "      <td>0</td>\n",
              "      <td>1</td>\n",
              "      <td>0</td>\n",
              "      <td>0</td>\n",
              "      <td>0</td>\n",
              "      <td>0</td>\n",
              "      <td>0</td>\n",
              "    </tr>\n",
              "  </tbody>\n",
              "</table>\n",
              "<p>5 rows × 55 columns</p>\n",
              "</div>\n",
              "      <button class=\"colab-df-convert\" onclick=\"convertToInteractive('df-e241e448-0af2-41db-9a45-e3d8e29a2b8c')\"\n",
              "              title=\"Convert this dataframe to an interactive table.\"\n",
              "              style=\"display:none;\">\n",
              "        \n",
              "  <svg xmlns=\"http://www.w3.org/2000/svg\" height=\"24px\"viewBox=\"0 0 24 24\"\n",
              "       width=\"24px\">\n",
              "    <path d=\"M0 0h24v24H0V0z\" fill=\"none\"/>\n",
              "    <path d=\"M18.56 5.44l.94 2.06.94-2.06 2.06-.94-2.06-.94-.94-2.06-.94 2.06-2.06.94zm-11 1L8.5 8.5l.94-2.06 2.06-.94-2.06-.94L8.5 2.5l-.94 2.06-2.06.94zm10 10l.94 2.06.94-2.06 2.06-.94-2.06-.94-.94-2.06-.94 2.06-2.06.94z\"/><path d=\"M17.41 7.96l-1.37-1.37c-.4-.4-.92-.59-1.43-.59-.52 0-1.04.2-1.43.59L10.3 9.45l-7.72 7.72c-.78.78-.78 2.05 0 2.83L4 21.41c.39.39.9.59 1.41.59.51 0 1.02-.2 1.41-.59l7.78-7.78 2.81-2.81c.8-.78.8-2.07 0-2.86zM5.41 20L4 18.59l7.72-7.72 1.47 1.35L5.41 20z\"/>\n",
              "  </svg>\n",
              "      </button>\n",
              "      \n",
              "  <style>\n",
              "    .colab-df-container {\n",
              "      display:flex;\n",
              "      flex-wrap:wrap;\n",
              "      gap: 12px;\n",
              "    }\n",
              "\n",
              "    .colab-df-convert {\n",
              "      background-color: #E8F0FE;\n",
              "      border: none;\n",
              "      border-radius: 50%;\n",
              "      cursor: pointer;\n",
              "      display: none;\n",
              "      fill: #1967D2;\n",
              "      height: 32px;\n",
              "      padding: 0 0 0 0;\n",
              "      width: 32px;\n",
              "    }\n",
              "\n",
              "    .colab-df-convert:hover {\n",
              "      background-color: #E2EBFA;\n",
              "      box-shadow: 0px 1px 2px rgba(60, 64, 67, 0.3), 0px 1px 3px 1px rgba(60, 64, 67, 0.15);\n",
              "      fill: #174EA6;\n",
              "    }\n",
              "\n",
              "    [theme=dark] .colab-df-convert {\n",
              "      background-color: #3B4455;\n",
              "      fill: #D2E3FC;\n",
              "    }\n",
              "\n",
              "    [theme=dark] .colab-df-convert:hover {\n",
              "      background-color: #434B5C;\n",
              "      box-shadow: 0px 1px 3px 1px rgba(0, 0, 0, 0.15);\n",
              "      filter: drop-shadow(0px 1px 2px rgba(0, 0, 0, 0.3));\n",
              "      fill: #FFFFFF;\n",
              "    }\n",
              "  </style>\n",
              "\n",
              "      <script>\n",
              "        const buttonEl =\n",
              "          document.querySelector('#df-e241e448-0af2-41db-9a45-e3d8e29a2b8c button.colab-df-convert');\n",
              "        buttonEl.style.display =\n",
              "          google.colab.kernel.accessAllowed ? 'block' : 'none';\n",
              "\n",
              "        async function convertToInteractive(key) {\n",
              "          const element = document.querySelector('#df-e241e448-0af2-41db-9a45-e3d8e29a2b8c');\n",
              "          const dataTable =\n",
              "            await google.colab.kernel.invokeFunction('convertToInteractive',\n",
              "                                                     [key], {});\n",
              "          if (!dataTable) return;\n",
              "\n",
              "          const docLinkHtml = 'Like what you see? Visit the ' +\n",
              "            '<a target=\"_blank\" href=https://colab.research.google.com/notebooks/data_table.ipynb>data table notebook</a>'\n",
              "            + ' to learn more about interactive tables.';\n",
              "          element.innerHTML = '';\n",
              "          dataTable['output_type'] = 'display_data';\n",
              "          await google.colab.output.renderOutput(dataTable, element);\n",
              "          const docLink = document.createElement('div');\n",
              "          docLink.innerHTML = docLinkHtml;\n",
              "          element.appendChild(docLink);\n",
              "        }\n",
              "      </script>\n",
              "    </div>\n",
              "  </div>\n",
              "  "
            ]
          },
          "metadata": {},
          "execution_count": 39
        }
      ]
    },
    {
      "cell_type": "markdown",
      "source": [
        "Find the best combination of factors to predict price."
      ],
      "metadata": {
        "id": "vxqgxxFm8Tfa"
      }
    },
    {
      "cell_type": "code",
      "source": [
        "car_features = ['Mileage', 'Cylinder', 'Liter', 'Doors', 'Cruise', 'Sound', 'Leather']"
      ],
      "metadata": {
        "id": "JTgfDNU28ZIN"
      },
      "execution_count": 41,
      "outputs": []
    }
  ],
  "metadata": {
    "kernelspec": {
      "display_name": "Python 3",
      "language": "python",
      "name": "python3"
    },
    "language_info": {
      "codemirror_mode": {
        "name": "ipython",
        "version": 3
      },
      "file_extension": ".py",
      "mimetype": "text/x-python",
      "name": "python",
      "nbconvert_exporter": "python",
      "pygments_lexer": "ipython3",
      "version": "3.8.3"
    },
    "colab": {
      "name": "linear regression Assignment8.ipynb",
      "provenance": [],
      "include_colab_link": true
    }
  },
  "nbformat": 4,
  "nbformat_minor": 0
}